{
  "nbformat": 4,
  "nbformat_minor": 0,
  "metadata": {
    "colab": {
      "provenance": [],
      "authorship_tag": "ABX9TyNMrUEBCh4NAk9z0i08xoHj",
      "include_colab_link": true
    },
    "kernelspec": {
      "name": "python3",
      "display_name": "Python 3"
    },
    "language_info": {
      "name": "python"
    }
  },
  "cells": [
    {
      "cell_type": "markdown",
      "metadata": {
        "id": "view-in-github",
        "colab_type": "text"
      },
      "source": [
        "<a href=\"https://colab.research.google.com/github/camillina/Camilla_data_analysis/blob/main/Analisi%20del%20sentiment%20di%20articoli%20Vodafone.ipynb\" target=\"_parent\"><img src=\"https://colab.research.google.com/assets/colab-badge.svg\" alt=\"Open In Colab\"/></a>"
      ]
    },
    {
      "cell_type": "code",
      "execution_count": null,
      "metadata": {
        "colab": {
          "base_uri": "https://localhost:8080/"
        },
        "id": "Q77Mfxl52dXR",
        "outputId": "eab43604-dc60-417e-f352-26134aff4c60"
      },
      "outputs": [
        {
          "output_type": "stream",
          "name": "stdout",
          "text": [
            "Requirement already satisfied: textblob in /usr/local/lib/python3.11/dist-packages (0.19.0)\n",
            "Requirement already satisfied: nltk>=3.9 in /usr/local/lib/python3.11/dist-packages (from textblob) (3.9.1)\n",
            "Requirement already satisfied: click in /usr/local/lib/python3.11/dist-packages (from nltk>=3.9->textblob) (8.1.8)\n",
            "Requirement already satisfied: joblib in /usr/local/lib/python3.11/dist-packages (from nltk>=3.9->textblob) (1.4.2)\n",
            "Requirement already satisfied: regex>=2021.8.3 in /usr/local/lib/python3.11/dist-packages (from nltk>=3.9->textblob) (2024.11.6)\n",
            "Requirement already satisfied: tqdm in /usr/local/lib/python3.11/dist-packages (from nltk>=3.9->textblob) (4.67.1)\n",
            "Requirement already satisfied: newspaper3k in /usr/local/lib/python3.11/dist-packages (0.2.8)\n",
            "Requirement already satisfied: beautifulsoup4>=4.4.1 in /usr/local/lib/python3.11/dist-packages (from newspaper3k) (4.13.3)\n",
            "Requirement already satisfied: Pillow>=3.3.0 in /usr/local/lib/python3.11/dist-packages (from newspaper3k) (11.1.0)\n",
            "Requirement already satisfied: PyYAML>=3.11 in /usr/local/lib/python3.11/dist-packages (from newspaper3k) (6.0.2)\n",
            "Requirement already satisfied: cssselect>=0.9.2 in /usr/local/lib/python3.11/dist-packages (from newspaper3k) (1.3.0)\n",
            "Requirement already satisfied: lxml>=3.6.0 in /usr/local/lib/python3.11/dist-packages (from newspaper3k) (5.3.1)\n",
            "Requirement already satisfied: nltk>=3.2.1 in /usr/local/lib/python3.11/dist-packages (from newspaper3k) (3.9.1)\n",
            "Requirement already satisfied: requests>=2.10.0 in /usr/local/lib/python3.11/dist-packages (from newspaper3k) (2.32.3)\n",
            "Requirement already satisfied: feedparser>=5.2.1 in /usr/local/lib/python3.11/dist-packages (from newspaper3k) (6.0.11)\n",
            "Requirement already satisfied: tldextract>=2.0.1 in /usr/local/lib/python3.11/dist-packages (from newspaper3k) (5.1.3)\n",
            "Requirement already satisfied: feedfinder2>=0.0.4 in /usr/local/lib/python3.11/dist-packages (from newspaper3k) (0.0.4)\n",
            "Requirement already satisfied: jieba3k>=0.35.1 in /usr/local/lib/python3.11/dist-packages (from newspaper3k) (0.35.1)\n",
            "Requirement already satisfied: python-dateutil>=2.5.3 in /usr/local/lib/python3.11/dist-packages (from newspaper3k) (2.8.2)\n",
            "Requirement already satisfied: tinysegmenter==0.3 in /usr/local/lib/python3.11/dist-packages (from newspaper3k) (0.3)\n",
            "Requirement already satisfied: soupsieve>1.2 in /usr/local/lib/python3.11/dist-packages (from beautifulsoup4>=4.4.1->newspaper3k) (2.6)\n",
            "Requirement already satisfied: typing-extensions>=4.0.0 in /usr/local/lib/python3.11/dist-packages (from beautifulsoup4>=4.4.1->newspaper3k) (4.12.2)\n",
            "Requirement already satisfied: six in /usr/local/lib/python3.11/dist-packages (from feedfinder2>=0.0.4->newspaper3k) (1.17.0)\n",
            "Requirement already satisfied: sgmllib3k in /usr/local/lib/python3.11/dist-packages (from feedparser>=5.2.1->newspaper3k) (1.0.0)\n",
            "Requirement already satisfied: click in /usr/local/lib/python3.11/dist-packages (from nltk>=3.2.1->newspaper3k) (8.1.8)\n",
            "Requirement already satisfied: joblib in /usr/local/lib/python3.11/dist-packages (from nltk>=3.2.1->newspaper3k) (1.4.2)\n",
            "Requirement already satisfied: regex>=2021.8.3 in /usr/local/lib/python3.11/dist-packages (from nltk>=3.2.1->newspaper3k) (2024.11.6)\n",
            "Requirement already satisfied: tqdm in /usr/local/lib/python3.11/dist-packages (from nltk>=3.2.1->newspaper3k) (4.67.1)\n",
            "Requirement already satisfied: charset-normalizer<4,>=2 in /usr/local/lib/python3.11/dist-packages (from requests>=2.10.0->newspaper3k) (3.4.1)\n",
            "Requirement already satisfied: idna<4,>=2.5 in /usr/local/lib/python3.11/dist-packages (from requests>=2.10.0->newspaper3k) (3.10)\n",
            "Requirement already satisfied: urllib3<3,>=1.21.1 in /usr/local/lib/python3.11/dist-packages (from requests>=2.10.0->newspaper3k) (2.3.0)\n",
            "Requirement already satisfied: certifi>=2017.4.17 in /usr/local/lib/python3.11/dist-packages (from requests>=2.10.0->newspaper3k) (2025.1.31)\n",
            "Requirement already satisfied: requests-file>=1.4 in /usr/local/lib/python3.11/dist-packages (from tldextract>=2.0.1->newspaper3k) (2.1.0)\n",
            "Requirement already satisfied: filelock>=3.0.8 in /usr/local/lib/python3.11/dist-packages (from tldextract>=2.0.1->newspaper3k) (3.17.0)\n",
            "Requirement already satisfied: lxml[html_clean] in /usr/local/lib/python3.11/dist-packages (5.3.1)\n",
            "Requirement already satisfied: lxml_html_clean in /usr/local/lib/python3.11/dist-packages (from lxml[html_clean]) (0.4.1)\n",
            "Requirement already satisfied: html_clean in /usr/local/lib/python3.11/dist-packages (0.0.4)\n",
            "Sentiment dell'articolo:\n",
            "Polarità: 0.5714285714285714\n",
            "Soggettività: 1.0\n",
            "Sentiment: Positivo\n"
          ]
        }
      ],
      "source": [
        "#librerie\n",
        "!pip install textblob\n",
        "!pip install newspaper3k\n",
        "!pip install lxml[html_clean]\n",
        "!pip install html_clean\n",
        "\n",
        "\n",
        "from textblob import TextBlob\n",
        "from newspaper import Article\n",
        "import requests\n",
        "from requests.exceptions import Timeout\n",
        "\n",
        "def analizza_sentiment(url):\n",
        "    try:\n",
        "        # Scarica l'articolo con un timeout (7 secondi di attesa)\n",
        "        articolo = Article(url)\n",
        "        articolo.download()  # Il timeout viene gestito a livello di requests\n",
        "        articolo.parse()\n",
        "\n",
        "        testo = articolo.text\n",
        "        blob = TextBlob(testo)\n",
        "\n",
        "        polarità = blob.sentiment.polarity\n",
        "        soggettività = blob.sentiment.subjectivity\n",
        "\n",
        "        print(f\"Sentiment dell'articolo:\\nPolarità: {polarità}\\nSoggettività: {soggettività}\")\n",
        "\n",
        "        if polarità > 0:\n",
        "            print(\"Sentiment: Positivo\")\n",
        "        elif polarità < 0:\n",
        "            print(\"Sentiment: Negativo\")\n",
        "        else:\n",
        "            print(\"Sentiment: Neutro\")\n",
        "\n",
        "    except Timeout:\n",
        "        print(\"Errore: Il download dell'articolo ha superato il tempo di attesa.\")\n",
        "    except Exception as e:\n",
        "        print(f\"Errore: {e}\")\n",
        "\n",
        "# Esegui l'analisi su un URL di un articolo\n",
        "url_articolo = 'https://www.player.it/fuorigioco/547290-nuovo-bonus-vodafone-happy.html'\n",
        "analizza_sentiment(url_articolo)"
      ]
    },
    {
      "cell_type": "code",
      "source": [
        "from textblob import TextBlob\n",
        "from newspaper import Article\n",
        "import requests\n",
        "from requests.exceptions import Timeout\n",
        "\n",
        "def analizza_sentiment(url):\n",
        "    try:\n",
        "        # Scarica l'articolo con un timeout (7 secondi di attesa)\n",
        "        articolo = Article(url)\n",
        "        articolo.download()  # Il timeout viene gestito a livello di requests\n",
        "        articolo.parse()\n",
        "\n",
        "        testo = articolo.text\n",
        "        blob = TextBlob(testo)\n",
        "\n",
        "        polarità = blob.sentiment.polarity\n",
        "        soggettività = blob.sentiment.subjectivity\n",
        "\n",
        "        print(f\"Sentiment dell'articolo:\\nPolarità: {polarità}\\nSoggettività: {soggettività}\")\n",
        "\n",
        "        if polarità > 0:\n",
        "            print(\"Sentiment: Positivo\")\n",
        "        elif polarità < 0:\n",
        "            print(\"Sentiment: Negativo\")\n",
        "        else:\n",
        "            print(\"Sentiment: Neutro\")\n",
        "\n",
        "    except Timeout:\n",
        "        print(\"Errore: Il download dell'articolo ha superato il tempo di attesa.\")\n",
        "    except Exception as e:\n",
        "        print(f\"Errore: {e}\")\n",
        "\n",
        "# Esegui l'analisi su un URL di un articolo\n",
        "url_articolo = 'https://www.tecnoandroid.it/2024/01/03/vodafone-2024-tecnologia-connettivita-e-risparmi-per-tutti-1326756/'\n",
        "analizza_sentiment(url_articolo)"
      ],
      "metadata": {
        "colab": {
          "base_uri": "https://localhost:8080/"
        },
        "id": "xQeYCWWPAYSI",
        "outputId": "981a94cb-5c21-45b6-963b-e408c3b62312"
      },
      "execution_count": null,
      "outputs": [
        {
          "output_type": "stream",
          "name": "stdout",
          "text": [
            "Sentiment dell'articolo:\n",
            "Polarità: 0.0838095238095238\n",
            "Soggettività: 0.738095238095238\n",
            "Sentiment: Positivo\n"
          ]
        }
      ]
    },
    {
      "cell_type": "code",
      "source": [
        "from textblob import TextBlob\n",
        "from newspaper import Article\n",
        "import requests\n",
        "from requests.exceptions import Timeout\n",
        "\n",
        "def analizza_sentiment(url):\n",
        "    try:\n",
        "        # Scarica l'articolo con un timeout (7 secondi di attesa)\n",
        "        articolo = Article(url)\n",
        "        articolo.download()  # Il timeout viene gestito a livello di requests\n",
        "        articolo.parse()\n",
        "\n",
        "        testo = articolo.text\n",
        "        blob = TextBlob(testo)\n",
        "\n",
        "        polarità = blob.sentiment.polarity\n",
        "        soggettività = blob.sentiment.subjectivity\n",
        "\n",
        "        print(f\"Sentiment dell'articolo:\\nPolarità: {polarità}\\nSoggettività: {soggettività}\")\n",
        "\n",
        "        if polarità > 0:\n",
        "            print(\"Sentiment: Positivo\")\n",
        "        elif polarità < 0:\n",
        "            print(\"Sentiment: Negativo\")\n",
        "        else:\n",
        "            print(\"Sentiment: Neutro\")\n",
        "\n",
        "    except Timeout:\n",
        "        print(\"Errore: Il download dell'articolo ha superato il tempo di attesa.\")\n",
        "    except Exception as e:\n",
        "        print(f\"Errore: {e}\")\n",
        "\n",
        "# Esegui l'analisi su un URL di un articolo\n",
        "url_articolo = 'https://www.repubblica.it/economia/2024/01/04/news/telefonia_a_gennaio_raffica_di_rincari_in_bolletta_ecco_cosa_possono_fare_gli_utenti-421813564/'\n",
        "analizza_sentiment(url_articolo)\n"
      ],
      "metadata": {
        "colab": {
          "base_uri": "https://localhost:8080/"
        },
        "id": "OSt1M14cGlkw",
        "outputId": "0e1bced5-e47e-421d-86b6-0e33dae71876"
      },
      "execution_count": null,
      "outputs": [
        {
          "output_type": "stream",
          "name": "stdout",
          "text": [
            "Sentiment dell'articolo:\n",
            "Polarità: 0.0\n",
            "Soggettività: 0.0\n",
            "Sentiment: Neutro\n"
          ]
        }
      ]
    },
    {
      "cell_type": "code",
      "source": [
        "from textblob import TextBlob\n",
        "from newspaper import Article\n",
        "import requests\n",
        "from requests.exceptions import Timeout\n",
        "\n",
        "def analizza_sentiment(url):\n",
        "    try:\n",
        "        # Scarica l'articolo con un timeout (7 secondi di attesa)\n",
        "        articolo = Article(url)\n",
        "        articolo.download()  # Il timeout viene gestito a livello di requests\n",
        "        articolo.parse()\n",
        "\n",
        "        testo = articolo.text\n",
        "        blob = TextBlob(testo)\n",
        "\n",
        "        polarità = blob.sentiment.polarity\n",
        "        soggettività = blob.sentiment.subjectivity\n",
        "\n",
        "        print(f\"Sentiment dell'articolo:\\nPolarità: {polarità}\\nSoggettività: {soggettività}\")\n",
        "\n",
        "        if polarità > 0:\n",
        "            print(\"Sentiment: Positivo\")\n",
        "        elif polarità < 0:\n",
        "            print(\"Sentiment: Negativo\")\n",
        "        else:\n",
        "            print(\"Sentiment: Neutro\")\n",
        "\n",
        "    except Timeout:\n",
        "        print(\"Errore: Il download dell'articolo ha superato il tempo di attesa.\")\n",
        "    except Exception as e:\n",
        "        print(f\"Errore: {e}\")\n",
        "\n",
        "# Esegui l'analisi su un URL di un articolo\n",
        "url_articolo = 'https://edizionecaserta.net/2024/01/05/aumentano-le-tariffe-telefoniche-fisse-e-mobile-i-nuovi-prezzi/'\n",
        "analizza_sentiment(url_articolo)\n"
      ],
      "metadata": {
        "colab": {
          "base_uri": "https://localhost:8080/"
        },
        "id": "bjSOY16PJPwS",
        "outputId": "8e026724-b50b-4c5d-f239-ad3adf92fd1a"
      },
      "execution_count": null,
      "outputs": [
        {
          "output_type": "stream",
          "name": "stdout",
          "text": [
            "Sentiment dell'articolo:\n",
            "Polarità: -0.0375\n",
            "Soggettività: 0.6875\n",
            "Sentiment: Negativo\n"
          ]
        }
      ]
    },
    {
      "cell_type": "code",
      "source": [
        "from textblob import TextBlob\n",
        "from newspaper import Article\n",
        "import requests\n",
        "from requests.exceptions import Timeout\n",
        "\n",
        "def analizza_sentiment(url):\n",
        "    try:\n",
        "        # Scarica l'articolo con un timeout (7 secondi di attesa)\n",
        "        articolo = Article(url)\n",
        "        articolo.download()  # Il timeout viene gestito a livello di requests\n",
        "        articolo.parse()\n",
        "\n",
        "        testo = articolo.text\n",
        "        blob = TextBlob(testo)\n",
        "\n",
        "        polarità = blob.sentiment.polarity\n",
        "        soggettività = blob.sentiment.subjectivity\n",
        "\n",
        "        print(f\"Sentiment dell'articolo:\\nPolarità: {polarità}\\nSoggettività: {soggettività}\")\n",
        "\n",
        "        if polarità > 0:\n",
        "            print(\"Sentiment: Positivo\")\n",
        "        elif polarità < 0:\n",
        "            print(\"Sentiment: Negativo\")\n",
        "        else:\n",
        "            print(\"Sentiment: Neutro\")\n",
        "\n",
        "    except Timeout:\n",
        "        print(\"Errore: Il download dell'articolo ha superato il tempo di attesa.\")\n",
        "    except Exception as e:\n",
        "        print(f\"Errore: {e}\")\n",
        "\n",
        "# Esegui l'analisi su un URL di un articolo\n",
        "url_articolo = 'https://www.business.it/telefonia-gennaio-nero-ecco-la-mappa-dei-rincari-e-cosa-possono-fare-gli-utenti/'\n",
        "analizza_sentiment(url_articolo)"
      ],
      "metadata": {
        "id": "MF5OdftNJPjY",
        "colab": {
          "base_uri": "https://localhost:8080/"
        },
        "outputId": "38abe5f5-955d-4378-a27d-c70020f40b14"
      },
      "execution_count": 20,
      "outputs": [
        {
          "output_type": "stream",
          "name": "stdout",
          "text": [
            "Sentiment dell'articolo:\n",
            "Polarità: -0.08650793650793652\n",
            "Soggettività: 0.47500000000000003\n",
            "Sentiment: Negativo\n"
          ]
        }
      ]
    },
    {
      "cell_type": "code",
      "source": [
        "from textblob import TextBlob\n",
        "from newspaper import Article\n",
        "import requests\n",
        "from requests.exceptions import Timeout\n",
        "\n",
        "def analizza_sentiment(url):\n",
        "    try:\n",
        "        # Scarica l'articolo con un timeout (7 secondi di attesa)\n",
        "        articolo = Article(url)\n",
        "        articolo.download()  # Il timeout viene gestito a livello di requests\n",
        "        articolo.parse()\n",
        "\n",
        "        testo = articolo.text\n",
        "        blob = TextBlob(testo)\n",
        "\n",
        "        polarità = blob.sentiment.polarity\n",
        "        soggettività = blob.sentiment.subjectivity\n",
        "\n",
        "        print(f\"Sentiment dell'articolo:\\nPolarità: {polarità}\\nSoggettività: {soggettività}\")\n",
        "\n",
        "        if polarità > 0:\n",
        "            print(\"Sentiment: Positivo\")\n",
        "        elif polarità < 0:\n",
        "            print(\"Sentiment: Negativo\")\n",
        "        else:\n",
        "            print(\"Sentiment: Neutro\")\n",
        "\n",
        "    except Timeout:\n",
        "        print(\"Errore: Il download dell'articolo ha superato il tempo di attesa.\")\n",
        "    except Exception as e:\n",
        "        print(f\"Errore: {e}\")\n",
        "\n",
        "# Esegui l'analisi su un URL di un articolo\n",
        "url_articolo = 'http://www.tecnoandroid.it/2024/01/06/evoluzione-del-mercato-della-telefonia-nel-2024-analisi-degli-ultimi-trend-e-aumenti-1328615/#utm_source=rss&utm_medium=rss&utm_campaign=evoluzione-del-mercato-della-telefonia-nel-2024-analisi-degli-ultimi-trend-e-aumenti'\n",
        "analizza_sentiment(url_articolo)"
      ],
      "metadata": {
        "colab": {
          "base_uri": "https://localhost:8080/"
        },
        "id": "NeszGdooMw0h",
        "outputId": "c9a84c14-9c80-4fc2-94b4-bd66d7550d63"
      },
      "execution_count": 23,
      "outputs": [
        {
          "output_type": "stream",
          "name": "stdout",
          "text": [
            "Sentiment dell'articolo:\n",
            "Polarità: -0.125\n",
            "Soggettività: 0.375\n",
            "Sentiment: Negativo\n"
          ]
        }
      ]
    }
  ]
}